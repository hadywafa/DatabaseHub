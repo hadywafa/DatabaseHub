{
 "cells": [
  {
   "cell_type": "code",
   "execution_count": 2,
   "id": "6d53fa65-2db8-4c3b-ab05-3ac497a910ab",
   "metadata": {},
   "outputs": [],
   "source": [
    "from pyspark.sql import SparkSession\n",
    "\n",
    "# jdbc_driver_path = \"/usr/share/java/mysql-connector-java-8.4.0.jar\"\n",
    "jdbc_driver_path = \"/usr/share/java/mysql-connector-java-8.4.0.jar\"\n",
    "\n",
    "spark = SparkSession.builder \\\n",
    "    .appName(\"PG\") \\\n",
    "    .config(\"spark.jars\", jdbc_driver_path) \\\n",
    "    .master(\"local\") \\\n",
    "    .getOrCreate()\n",
    "\n",
    "jdbc1 = (spark\n",
    "        .read\n",
    "        .format(\"jdbc\")\n",
    "        .option(\"url\", \"jdbc:mysql://mysql-db:3306/sakila\")\n",
    "        .option(\"dbtable\", \"film\")\n",
    "        .option(\"user\", \"root\")\n",
    "        .option(\"password\", \"P@ssw0rd\")\n",
    "        .option(\"driver\", \"com.mysql.cj.jdbc.Driver\")\n",
    "        .load())"
   ]
  },
  {
   "cell_type": "code",
   "execution_count": 3,
   "id": "2cbffe12-c2cf-41e2-b9b5-db644088a42e",
   "metadata": {},
   "outputs": [
    {
     "name": "stdout",
     "output_type": "stream",
     "text": [
      "+-------+----------------+---------------------------------------------------------------------------------------------------------------------+------------+-----------+--------------------+---------------+-----------+------+----------------+------+--------------------------------+-------------------+\n",
      "|film_id|title           |description                                                                                                          |release_year|language_id|original_language_id|rental_duration|rental_rate|length|replacement_cost|rating|special_features                |last_update        |\n",
      "+-------+----------------+---------------------------------------------------------------------------------------------------------------------+------------+-----------+--------------------+---------------+-----------+------+----------------+------+--------------------------------+-------------------+\n",
      "|1      |ACADEMY DINOSAUR|A Epic Drama of a Feminist And a Mad Scientist who must Battle a Teacher in The Canadian Rockies                     |2006-01-01  |1          |null                |6              |0.99       |86    |20.99           |PG    |Deleted Scenes,Behind the Scenes|2006-02-15 05:03:42|\n",
      "|2      |ACE GOLDFINGER  |A Astounding Epistle of a Database Administrator And a Explorer who must Find a Car in Ancient China                 |2006-01-01  |1          |null                |3              |4.99       |48    |12.99           |G     |Trailers,Deleted Scenes         |2006-02-15 05:03:42|\n",
      "|3      |ADAPTATION HOLES|A Astounding Reflection of a Lumberjack And a Car who must Sink a Lumberjack in A Baloon Factory                     |2006-01-01  |1          |null                |7              |2.99       |50    |18.99           |NC-17 |Trailers,Deleted Scenes         |2006-02-15 05:03:42|\n",
      "|4      |AFFAIR PREJUDICE|A Fanciful Documentary of a Frisbee And a Lumberjack who must Chase a Monkey in A Shark Tank                         |2006-01-01  |1          |null                |5              |2.99       |117   |26.99           |G     |Commentaries,Behind the Scenes  |2006-02-15 05:03:42|\n",
      "|5      |AFRICAN EGG     |A Fast-Paced Documentary of a Pastry Chef And a Dentist who must Pursue a Forensic Psychologist in The Gulf of Mexico|2006-01-01  |1          |null                |6              |2.99       |130   |22.99           |G     |Deleted Scenes                  |2006-02-15 05:03:42|\n",
      "|6      |AGENT TRUMAN    |A Intrepid Panorama of a Robot And a Boy who must Escape a Sumo Wrestler in Ancient China                            |2006-01-01  |1          |null                |3              |2.99       |169   |17.99           |PG    |Deleted Scenes                  |2006-02-15 05:03:42|\n",
      "|7      |AIRPLANE SIERRA |A Touching Saga of a Hunter And a Butler who must Discover a Butler in A Jet Boat                                    |2006-01-01  |1          |null                |6              |4.99       |62    |28.99           |PG-13 |Trailers,Deleted Scenes         |2006-02-15 05:03:42|\n",
      "|8      |AIRPORT POLLOCK |A Epic Tale of a Moose And a Girl who must Confront a Monkey in Ancient India                                        |2006-01-01  |1          |null                |6              |4.99       |54    |15.99           |R     |Trailers                        |2006-02-15 05:03:42|\n",
      "|9      |ALABAMA DEVIL   |A Thoughtful Panorama of a Database Administrator And a Mad Scientist who must Outgun a Mad Scientist in A Jet Boat  |2006-01-01  |1          |null                |3              |2.99       |114   |21.99           |PG-13 |Trailers,Deleted Scenes         |2006-02-15 05:03:42|\n",
      "|10     |ALADDIN CALENDAR|A Action-Packed Tale of a Man And a Lumberjack who must Reach a Feminist in Ancient China                            |2006-01-01  |1          |null                |6              |4.99       |63    |24.99           |NC-17 |Trailers,Deleted Scenes         |2006-02-15 05:03:42|\n",
      "+-------+----------------+---------------------------------------------------------------------------------------------------------------------+------------+-----------+--------------------+---------------+-----------+------+----------------+------+--------------------------------+-------------------+\n",
      "only showing top 10 rows\n",
      "\n"
     ]
    }
   ],
   "source": [
    "jdbc1.show(10, truncate=False)"
   ]
  },
  {
   "cell_type": "code",
   "execution_count": 4,
   "id": "9651ccb0-d774-4ec1-9f5a-6172bbf7f84e",
   "metadata": {},
   "outputs": [
    {
     "data": {
      "text/plain": [
       "'3.4.0'"
      ]
     },
     "execution_count": 4,
     "metadata": {},
     "output_type": "execute_result"
    }
   ],
   "source": [
    "spark.version"
   ]
  }
 ],
 "metadata": {
  "kernelspec": {
   "display_name": "Python 3 (ipykernel)",
   "language": "python",
   "name": "python3"
  },
  "language_info": {
   "codemirror_mode": {
    "name": "ipython",
    "version": 3
   },
   "file_extension": ".py",
   "mimetype": "text/x-python",
   "name": "python",
   "nbconvert_exporter": "python",
   "pygments_lexer": "ipython3",
   "version": "3.11.3"
  }
 },
 "nbformat": 4,
 "nbformat_minor": 5
}

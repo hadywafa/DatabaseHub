{
 "cells": [
  {
   "cell_type": "code",
   "execution_count": null,
   "id": "6d53fa65-2db8-4c3b-ab05-3ac497a910ab",
   "metadata": {},
   "outputs": [],
   "source": [
    "from pyspark.sql import SparkSession\n",
    "\n",
    "# jdbc_driver_path = \"/usr/share/java/mysql-connector-java-8.4.0.jar\"\n",
    "jdbc_driver_path = \"/data/mysql-connector-j-9.1.0.jar\"\n",
    "\n",
    "spark = SparkSession.builder \\\n",
    "    .appName(\"PG\") \\\n",
    "    .config(\"spark.jars\", jdbc_driver_path) \\\n",
    "    .master(\"local\") \\\n",
    "    .getOrCreate()\n",
    "\n",
    "jdbc1 = (spark\n",
    "        .read\n",
    "        .format(\"jdbc\")\n",
    "        .option(\"url\", \"jdbc:mysql://mysql-db:3306/sakila\")\n",
    "        .option(\"dbtable\", \"film\")\n",
    "        .option(\"user\", \"root\")\n",
    "        .option(\"password\", \"P@ssw0rd\")\n",
    "        # .option(\"driver\", \"com.mysql.cj.jdbc.Driver\")\n",
    "        .load())"
   ]
  }
 ],
 "metadata": {
  "kernelspec": {
   "display_name": "Python 3 (ipykernel)",
   "language": "python",
   "name": "python3"
  },
  "language_info": {
   "codemirror_mode": {
    "name": "ipython",
    "version": 3
   },
   "file_extension": ".py",
   "mimetype": "text/x-python",
   "name": "python",
   "nbconvert_exporter": "python",
   "pygments_lexer": "ipython3",
   "version": "3.11.3"
  }
 },
 "nbformat": 4,
 "nbformat_minor": 5
}

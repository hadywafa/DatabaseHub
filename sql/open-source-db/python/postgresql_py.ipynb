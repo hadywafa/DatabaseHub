{
 "cells": [
  {
   "cell_type": "code",
   "execution_count": 1,
   "id": "69ecea85-c1f6-4682-9b27-f766a8bfbb80",
   "metadata": {
    "scrolled": true
   },
   "outputs": [
    {
     "name": "stdout",
     "output_type": "stream",
     "text": [
      "Reading package lists... Done\n",
      "Building dependency tree... Done\n",
      "Reading state information... Done\n",
      "build-essential is already the newest version (12.9ubuntu3).\n",
      "default-libmysqlclient-dev is already the newest version (1.0.8).\n",
      "pkg-config is already the newest version (0.29.2-1ubuntu3).\n",
      "libpq-dev is already the newest version (14.8-0ubuntu0.22.04.1).\n",
      "python3-dev is already the newest version (3.10.6-1~22.04).\n",
      "0 upgraded, 0 newly installed, 0 to remove and 0 not upgraded.\n"
     ]
    }
   ],
   "source": [
    "!sudo apt-get install python3-dev default-libmysqlclient-dev build-essential pkg-config libpq-dev -y"
   ]
  },
  {
   "cell_type": "code",
   "execution_count": 2,
   "id": "19e39e59-37a4-4d9a-be35-c989ad0a4e66",
   "metadata": {},
   "outputs": [
    {
     "name": "stdout",
     "output_type": "stream",
     "text": [
      "Requirement already satisfied: psycopg2 in /opt/conda/lib/python3.11/site-packages (2.9.6)\n"
     ]
    }
   ],
   "source": [
    "!pip install psycopg2"
   ]
  },
  {
   "cell_type": "code",
   "execution_count": 3,
   "id": "600e0963-b891-4f3b-a810-2091a4e6edb5",
   "metadata": {},
   "outputs": [],
   "source": [
    "import psycopg2"
   ]
  },
  {
   "cell_type": "code",
   "execution_count": 4,
   "id": "7683c5ad-6dde-4240-89e1-92604c86586e",
   "metadata": {},
   "outputs": [],
   "source": [
    "conn = psycopg2.connect(database=\"dvdrental\",\n",
    "                        host=\"pg-db\",\n",
    "                        user=\"postgres\",\n",
    "                        password=\"P@ssw0rd\",\n",
    "                        port=\"5432\")\n",
    "cursor = conn.cursor()"
   ]
  },
  {
   "cell_type": "code",
   "execution_count": 5,
   "id": "c96dc776-8adf-4294-8e3b-e703c5faecb0",
   "metadata": {},
   "outputs": [
    {
     "name": "stdout",
     "output_type": "stream",
     "text": [
      "[(1, 'Penelope', 'Guiness', datetime.datetime(2013, 5, 26, 14, 47, 57, 620000)), (2, 'Nick', 'Wahlberg', datetime.datetime(2013, 5, 26, 14, 47, 57, 620000)), (3, 'Ed', 'Chase', datetime.datetime(2013, 5, 26, 14, 47, 57, 620000)), (4, 'Jennifer', 'Davis', datetime.datetime(2013, 5, 26, 14, 47, 57, 620000)), (5, 'Johnny', 'Lollobrigida', datetime.datetime(2013, 5, 26, 14, 47, 57, 620000)), (6, 'Bette', 'Nicholson', datetime.datetime(2013, 5, 26, 14, 47, 57, 620000)), (7, 'Grace', 'Mostel', datetime.datetime(2013, 5, 26, 14, 47, 57, 620000)), (8, 'Matthew', 'Johansson', datetime.datetime(2013, 5, 26, 14, 47, 57, 620000)), (9, 'Joe', 'Swank', datetime.datetime(2013, 5, 26, 14, 47, 57, 620000)), (10, 'Christian', 'Gable', datetime.datetime(2013, 5, 26, 14, 47, 57, 620000))]\n"
     ]
    }
   ],
   "source": [
    "qry = \"SELECT * FROM actor LIMIT 10;\"\n",
    "cursor.execute(qry)\n",
    "print(cursor.fetchall())"
   ]
  },
  {
   "cell_type": "code",
   "execution_count": 6,
   "id": "e86ed038-cf29-4645-bb95-81518ebaecfa",
   "metadata": {},
   "outputs": [
    {
     "name": "stdout",
     "output_type": "stream",
     "text": [
      "(1, 'Penelope', 'Guiness', datetime.datetime(2013, 5, 26, 14, 47, 57, 620000))\n",
      "(2, 'Nick', 'Wahlberg', datetime.datetime(2013, 5, 26, 14, 47, 57, 620000))\n",
      "(3, 'Ed', 'Chase', datetime.datetime(2013, 5, 26, 14, 47, 57, 620000))\n",
      "(4, 'Jennifer', 'Davis', datetime.datetime(2013, 5, 26, 14, 47, 57, 620000))\n",
      "(5, 'Johnny', 'Lollobrigida', datetime.datetime(2013, 5, 26, 14, 47, 57, 620000))\n",
      "(6, 'Bette', 'Nicholson', datetime.datetime(2013, 5, 26, 14, 47, 57, 620000))\n",
      "(7, 'Grace', 'Mostel', datetime.datetime(2013, 5, 26, 14, 47, 57, 620000))\n",
      "(8, 'Matthew', 'Johansson', datetime.datetime(2013, 5, 26, 14, 47, 57, 620000))\n",
      "(9, 'Joe', 'Swank', datetime.datetime(2013, 5, 26, 14, 47, 57, 620000))\n",
      "(10, 'Christian', 'Gable', datetime.datetime(2013, 5, 26, 14, 47, 57, 620000))\n"
     ]
    }
   ],
   "source": [
    "qry = \"SELECT * FROM actor LIMIT 10;\"\n",
    "cursor.execute(qry)\n",
    "\n",
    "for result in cursor.fetchall():\n",
    "    print(result)"
   ]
  },
  {
   "cell_type": "code",
   "execution_count": 7,
   "id": "3128341a-4273-4637-b856-eca81b359d6e",
   "metadata": {},
   "outputs": [
    {
     "name": "stdout",
     "output_type": "stream",
     "text": [
      "[(1, 'Academy Dinosaur', 'A Epic Drama of a Feminist And a Mad Scientist who must Battle a Teacher in The Canadian Rockies', 'Documentary', Decimal('0.99'), 86, 'PG', 'Penelope Guiness, Christian Gable, Lucille Tracy, Sandra Peck, Johnny Cage, Mena Temple, Warren Nolte, Oprah Kilmer, Rock Dukakis, Mary Keitel'), (2, 'Ace Goldfinger', 'A Astounding Epistle of a Database Administrator And a Explorer who must Find a Car in Ancient China', 'Horror', Decimal('4.99'), 48, 'G', 'Bob Fawcett, Minnie Zellweger, Sean Guiness, Chris Depp'), (3, 'Adaptation Holes', 'A Astounding Reflection of a Lumberjack And a Car who must Sink a Lumberjack in A Baloon Factory', 'Documentary', Decimal('2.99'), 50, 'NC-17', 'Nick Wahlberg, Bob Fawcett, Cameron Streep, Ray Johansson, Julianne Dench')]\n"
     ]
    }
   ],
   "source": [
    "qry = \"SELECT * FROM film_list LIMIT 10;\"\n",
    "cursor.execute(qry)\n",
    "print(cursor.fetchmany(size=3))\n"
   ]
  },
  {
   "cell_type": "code",
   "execution_count": 8,
   "id": "5304b1b4-0695-45dc-ba0e-f03e22a8c4a2",
   "metadata": {},
   "outputs": [
    {
     "name": "stdout",
     "output_type": "stream",
     "text": [
      "(4, 'Affair Prejudice', 'A Fanciful Documentary of a Frisbee And a Lumberjack who must Chase a Monkey in A Shark Tank', 'Horror', Decimal('2.99'), 117, 'G', 'Jodie Degeneres, Scarlett Damon, Kenneth Pesci, Fay Winslet, Oprah Kilmer')\n",
      "(5, 'African Egg', 'A Fast-Paced Documentary of a Pastry Chef And a Dentist who must Pursue a Forensic Psychologist in The Gulf of Mexico', 'Family', Decimal('2.99'), 130, 'G', 'Gary Phoenix, Dustin Tautou, Matthew Leigh, Matthew Carrey, Thora Temple')\n",
      "(6, 'Agent Truman', 'A Intrepid Panorama of a Robot And a Boy who must Escape a Sumo Wrestler in Ancient China', 'Foreign', Decimal('2.99'), 169, 'PG', 'Kirsten Paltrow, Sandra Kilmer, Jayne Neeson, Warren Nolte, Morgan Williams, Kenneth Hoffman, Reese West')\n",
      "(7, 'Airplane Sierra', 'A Touching Saga of a Hunter And a Butler who must Discover a Butler in A Jet Boat', 'Comedy', Decimal('4.99'), 62, 'PG-13', 'Jim Mostel, Richard Penn, Oprah Kilmer, Mena Hopper, Michael Bolger')\n",
      "(8, 'Airport Pollock', 'A Epic Tale of a Moose And a Girl who must Confront a Monkey in Ancient India', 'Horror', Decimal('4.99'), 54, 'R', 'Fay Kilmer, Gene Willis, Susan Davis, Lucille Dee')\n",
      "(9, 'Alabama Devil', 'A Thoughtful Panorama of a Database Administrator And a Mad Scientist who must Outgun a Mad Scientist in A Jet Boat', 'Horror', Decimal('2.99'), 114, 'PG-13', 'Christian Gable, Elvis Marx, Rip Crawford, Mena Temple, Rip Winslet, Warren Nolte, Greta Keitel, William Hackman, Meryl Allen')\n",
      "(10, 'Aladdin Calendar', 'A Action-Packed Tale of a Man And a Lumberjack who must Reach a Feminist in Ancient China', 'Sports', Decimal('4.99'), 63, 'NC-17', 'Alec Wayne, Judy Dean, Val Bolger, Ray Johansson, Renee Tracy, Jada Ryder, Greta Malden, Rock Dukakis')\n"
     ]
    }
   ],
   "source": [
    "for result in cursor.fetchall():\n",
    "    print(result)"
   ]
  },
  {
   "cell_type": "code",
   "execution_count": null,
   "id": "278a5fc4-48f2-4a69-8783-05bd96d1d268",
   "metadata": {},
   "outputs": [],
   "source": []
  }
 ],
 "metadata": {
  "kernelspec": {
   "display_name": "Python 3 (ipykernel)",
   "language": "python",
   "name": "python3"
  },
  "language_info": {
   "codemirror_mode": {
    "name": "ipython",
    "version": 3
   },
   "file_extension": ".py",
   "mimetype": "text/x-python",
   "name": "python",
   "nbconvert_exporter": "python",
   "pygments_lexer": "ipython3",
   "version": "3.11.3"
  }
 },
 "nbformat": 4,
 "nbformat_minor": 5
}

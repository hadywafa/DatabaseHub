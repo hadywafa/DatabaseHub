{
 "cells": [
  {
   "cell_type": "code",
   "execution_count": null,
   "id": "69ecea85-c1f6-4682-9b27-f766a8bfbb80",
   "metadata": {
    "scrolled": true
   },
   "outputs": [],
   "source": [
    "!sudo apt-get install python3-dev default-libmysqlclient-dev build-essential pkg-config libpq-dev -y"
   ]
  },
  {
   "cell_type": "code",
   "execution_count": null,
   "id": "19e39e59-37a4-4d9a-be35-c989ad0a4e66",
   "metadata": {},
   "outputs": [],
   "source": [
    "!pip install psycopg2"
   ]
  },
  {
   "cell_type": "code",
   "execution_count": null,
   "id": "600e0963-b891-4f3b-a810-2091a4e6edb5",
   "metadata": {},
   "outputs": [],
   "source": [
    "import psycopg2"
   ]
  },
  {
   "cell_type": "code",
   "execution_count": null,
   "id": "7683c5ad-6dde-4240-89e1-92604c86586e",
   "metadata": {},
   "outputs": [],
   "source": [
    "conn = psycopg2.connect(database=\"dvdrental\",\n",
    "                        host=\"pg-db\",\n",
    "                        user=\"postgres\",\n",
    "                        password=\"P@ssw0rd\",\n",
    "                        port=\"5432\")\n",
    "cursor = conn.cursor()"
   ]
  },
  {
   "cell_type": "code",
   "execution_count": null,
   "id": "c96dc776-8adf-4294-8e3b-e703c5faecb0",
   "metadata": {},
   "outputs": [],
   "source": [
    "qry = \"SELECT * FROM actor LIMIT 10;\"\n",
    "cursor.execute(qry)\n",
    "print(cursor.fetchall())"
   ]
  },
  {
   "cell_type": "code",
   "execution_count": null,
   "id": "e86ed038-cf29-4645-bb95-81518ebaecfa",
   "metadata": {},
   "outputs": [],
   "source": [
    "qry = \"SELECT * FROM actor LIMIT 10;\"\n",
    "cursor.execute(qry)\n",
    "\n",
    "for result in cursor.fetchall():\n",
    "    print(result)"
   ]
  },
  {
   "cell_type": "code",
   "execution_count": null,
   "id": "3128341a-4273-4637-b856-eca81b359d6e",
   "metadata": {},
   "outputs": [],
   "source": [
    "qry = \"SELECT * FROM film_list LIMIT 10;\"\n",
    "cursor.execute(qry)\n",
    "print(cursor.fetchmany(size=3))\n"
   ]
  },
  {
   "cell_type": "code",
   "execution_count": null,
   "id": "5304b1b4-0695-45dc-ba0e-f03e22a8c4a2",
   "metadata": {},
   "outputs": [],
   "source": [
    "for result in cursor.fetchall():\n",
    "    print(result)"
   ]
  },
  {
   "cell_type": "code",
   "execution_count": null,
   "id": "278a5fc4-48f2-4a69-8783-05bd96d1d268",
   "metadata": {},
   "outputs": [],
   "source": []
  }
 ],
 "metadata": {
  "kernelspec": {
   "display_name": "Python 3 (ipykernel)",
   "language": "python",
   "name": "python3"
  },
  "language_info": {
   "codemirror_mode": {
    "name": "ipython",
    "version": 3
   },
   "file_extension": ".py",
   "mimetype": "text/x-python",
   "name": "python",
   "nbconvert_exporter": "python",
   "pygments_lexer": "ipython3",
   "version": "3.11.3"
  }
 },
 "nbformat": 4,
 "nbformat_minor": 5
}
